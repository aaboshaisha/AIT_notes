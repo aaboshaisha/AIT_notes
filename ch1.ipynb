{
 "cells": [
  {
   "cell_type": "markdown",
   "id": "a41010b7-578d-4b39-8f64-66353d15e22f",
   "metadata": {},
   "source": [
    "## Ch1: Describing Data"
   ]
  },
  {
   "cell_type": "markdown",
   "id": "81eaafb5-c2e9-41dd-9512-5593e6a6a8c1",
   "metadata": {},
   "source": [
    "The goal of AI is to \"make sense\" of data. \n",
    "U've made sense of data if u can describe it.\n",
    "An \"intelligent\" description is the least complex one. \n",
    "Intelligent processing has to do with simplicity, and that simplicity has to do with coding, but not any coding."
   ]
  },
  {
   "cell_type": "markdown",
   "id": "dc78272a-a58a-4ba6-99cd-e0312abd8a25",
   "metadata": {},
   "source": [
    "Consider this simple example: \n",
    "```\n",
    "'abababbababaabababbababaabababbababaabababbababa' \n",
    "```\n",
    "\n",
    "You may describe it in Python as... \n",
    "```\n",
    "• a string of 48 characters: \n",
    "→    S = ''.join(['a', 'b', 'a', 'b', 'a', ...]) \n",
    "• an alternation of two strings: abababbababaabababbababaabababbababaabababbababa \n",
    "→    S = ('ababab' + 'bababa') * 4 \n",
    "• a pattern of patterns: \n",
    "→    S = ('ab' * 3 + 'ba' * 3) * 4 \n",
    "• repeating a mirrored pattern: \n",
    "→    T = 'ab' * 3; S = (T + T[::-1]) * 4 \n",
    "• repeating 'ab' and delete every 6th character: \n",
    "'abababababababababababababababababababababababababababa' \n",
    "→     T = list('ab' * 28); [T.pop(6 * n) for n in range(1,9)];\n",
    "        S = ''.join(T)\n",
    "```\n",
    "\n",
    "So, which description is the most concise? It might not be the one we think it is at a first glance. We have to find a way to \"measure\" complexity. "
   ]
  },
  {
   "cell_type": "markdown",
   "id": "535ba29f-d8f2-46aa-8cd7-4a396ef52e98",
   "metadata": {},
   "source": [
    "The measure is: the complexity of an object is the length of its shortest description (representation) in binary. \n",
    "This definition applies to any object or situation, as long as this object or situation can be coded to be represented in a computer.\n",
    "\n",
    "So, to measure the complexity of any object:\n",
    "- Find code to represent the object in a computer (formal representation).\n",
    "- Express the code in binary.\n",
    "- Measure the length of the binary.\n",
    "- We need to find the \"shortest possible binary code\" (not easy)."
   ]
  },
  {
   "cell_type": "code",
   "execution_count": 156,
   "id": "1795dfd8-e6d3-4465-8990-cc17d629dad2",
   "metadata": {},
   "outputs": [],
   "source": [
    "from math import log2, ceil"
   ]
  },
  {
   "cell_type": "markdown",
   "id": "30db7756-4a7d-4f73-aa29-93bdaa132c9b",
   "metadata": {},
   "source": [
    "### Application to objects in sets, integers and strings:"
   ]
  },
  {
   "cell_type": "markdown",
   "id": "23eabbe4-25df-43c0-8f5d-83e535dbbe7b",
   "metadata": {},
   "source": [
    "#### Objects in sets:\n",
    "\n",
    "If an object is one insde a set (list), its complexity can be estimated as the length of the binary representation of its rank within the list / set."
   ]
  },
  {
   "cell_type": "code",
   "execution_count": 153,
   "id": "7bb6a648-87aa-476a-b44e-0fcefd6a6dd8",
   "metadata": {},
   "outputs": [
    {
     "data": {
      "text/plain": [
       "2"
      ]
     },
     "execution_count": 153,
     "metadata": {},
     "output_type": "execute_result"
    }
   ],
   "source": [
    "# eg: a set of 10 objects, the complexity of object 3 is:\n",
    "len(bin(3)[2:])"
   ]
  },
  {
   "cell_type": "markdown",
   "id": "6afcfd00-18f4-4fa6-82d8-7294f2e853d1",
   "metadata": {},
   "source": [
    "57000 people took part in a marathon. Someone came 37th. How many bits are needed to retireve their name?"
   ]
  },
  {
   "cell_type": "code",
   "execution_count": 155,
   "id": "f6d0b668-76c9-43a7-a61c-c55a2c9d08fa",
   "metadata": {},
   "outputs": [
    {
     "data": {
      "text/plain": [
       "6"
      ]
     },
     "execution_count": 155,
     "metadata": {},
     "output_type": "execute_result"
    }
   ],
   "source": [
    "len(bin(37)[2:])"
   ]
  },
  {
   "cell_type": "markdown",
   "id": "a3f671b9-57d7-49d6-a73f-9aa4852ffd8b",
   "metadata": {},
   "source": [
    "Even seemingly complex objects such as convoluted emojis are no more complex that their address in the set of emojis."
   ]
  },
  {
   "cell_type": "markdown",
   "id": "4f89c992-2dc1-4228-b71d-a5c989d6ce5b",
   "metadata": {},
   "source": [
    "When an object belongs to set of size N, its complexity (based on that rank idea) can't exceed log2(N) (since log2(N) bits are sufficient to represent all elements in set size N"
   ]
  },
  {
   "cell_type": "markdown",
   "id": "7457fad2-192b-49fb-bc72-b712f04b3ef5",
   "metadata": {},
   "source": [
    "NB: there's a caveat however that we'll come back to later: I can order the set in any way such that I make the object at lower or higher rank and as such make it more or less complex ie: we can make any sequence appear \"simple\" by placing it at a predictable position in our sorted list."
   ]
  },
  {
   "cell_type": "markdown",
   "id": "556463b2-f3fa-4d96-a808-d60192b440c8",
   "metadata": {},
   "source": [
    "#### Integers"
   ]
  },
  {
   "cell_type": "markdown",
   "id": "ec96d75e-01b1-455e-8a67-7cfc3a28b550",
   "metadata": {},
   "source": [
    "- Integers are used to retrieve objects by their rank in lists.\n",
    "- Integers are much more important than that. Integers are involved in the formal description of most objects AI is dealing with."
   ]
  },
  {
   "cell_type": "markdown",
   "id": "856a2eb7-3456-416f-aa05-831d53e2af3c",
   "metadata": {},
   "source": [
    "Let's find a way to measure complexity of integers: \n",
    "\n",
    "1- We can use standard binary encoding as follows"
   ]
  },
  {
   "cell_type": "code",
   "execution_count": 159,
   "id": "c4b1a2bd-611c-48e5-b870-f67f779f03bc",
   "metadata": {},
   "outputs": [
    {
     "name": "stdout",
     "output_type": "stream",
     "text": [
      "  n |  code of n |  Len(code n) |   code len: log2(n + 1)\n",
      "-------------------------------------------------------\n",
      "  0 |          0 |            1 |                       0\n",
      "  1 |          1 |            1 |                       1\n",
      "  2 |         10 |            2 |                       2\n",
      "  3 |         11 |            2 |                       2\n",
      "  4 |        100 |            3 |                       3\n",
      "  5 |        101 |            3 |                       3\n",
      "  6 |        110 |            3 |                       3\n",
      "  7 |        111 |            3 |                       3\n",
      "  8 |       1000 |            4 |                       4\n",
      "  9 |       1001 |            4 |                       4\n",
      " 10 |       1010 |            4 |                       4\n",
      " 11 |       1011 |            4 |                       4\n",
      " 12 |       1100 |            4 |                       4\n",
      " 13 |       1101 |            4 |                       4\n",
      " 14 |       1110 |            4 |                       4\n",
      " 15 |       1111 |            4 |                       4\n",
      " 16 |      10000 |            5 |                       5\n",
      " 17 |      10001 |            5 |                       5\n",
      " 18 |      10010 |            5 |                       5\n",
      " 19 |      10011 |            5 |                       5\n",
      " 20 |      10100 |            5 |                       5\n"
     ]
    }
   ],
   "source": [
    "from math import log2, ceil\n",
    "\n",
    "nums = list(range(0,21))\n",
    "bins = [bin(num)[2:] for num in nums]\n",
    "\n",
    "# Print table headers\n",
    "print(f\"{'n':>3} | {'code of n':>10} | {'Len(code n)':>12} | {'code len: log2(n + 1)':>23}\")\n",
    "print(\"-\" * 55)\n",
    "\n",
    "# Print table rows\n",
    "for n, b in zip(nums, bins):\n",
    "    print(f\"{n:>3} | {b:>10} | {len(b):>12} | {ceil(log2(n + 1)) if n > 0 else 0:>23}\")"
   ]
  },
  {
   "cell_type": "markdown",
   "id": "dfc7d24f-6f4b-4978-a2ca-8bcec630e646",
   "metadata": {},
   "source": [
    "We make this more compact: suppose we drop the leading 1 which is redundant -> to do so, we encode n+2 instead of n"
   ]
  },
  {
   "cell_type": "code",
   "execution_count": 169,
   "id": "cda3aea3-774e-43a6-9744-bae881f476ef",
   "metadata": {},
   "outputs": [
    {
     "name": "stdout",
     "output_type": "stream",
     "text": [
      "  n |  code of n |  len(code n) | log2(n+2+1) \n",
      "---------------------------------------------\n",
      "  0 |         10 |            2 |            2\n",
      "  1 |         11 |            2 |            2\n",
      "  2 |        100 |            3 |            3\n",
      "  3 |        101 |            3 |            3\n",
      "  4 |        110 |            3 |            3\n",
      "  5 |        111 |            3 |            3\n",
      "  6 |       1000 |            4 |            4\n",
      "  7 |       1001 |            4 |            4\n",
      "  8 |       1010 |            4 |            4\n",
      "  9 |       1011 |            4 |            4\n",
      " 10 |       1100 |            4 |            4\n",
      " 11 |       1101 |            4 |            4\n",
      " 12 |       1110 |            4 |            4\n",
      " 13 |       1111 |            4 |            4\n",
      " 14 |      10000 |            5 |            5\n",
      " 15 |      10001 |            5 |            5\n",
      " 16 |      10010 |            5 |            5\n",
      " 17 |      10011 |            5 |            5\n",
      " 18 |      10100 |            5 |            5\n",
      " 19 |      10101 |            5 |            5\n",
      " 20 |      10110 |            5 |            5\n"
     ]
    }
   ],
   "source": [
    "nums = list(range(0,21))\n",
    "bins = [bin(num+2)[2:] for num in nums]\n",
    "print(f\"{'n':>3} | {'code of n':>10} | {'len(code n)':>12} | {'log2(n+2+1)'} \")\n",
    "print(\"-\"*45)\n",
    "for n, b in zip(nums, bins):\n",
    "    print(f\"{n:>3} | {b:>10} | {len(b):>12} | {ceil(log2(n+2+1)):>12}\")\n",
    "    # print(n, b, math.ceil(math.log2(n+2+1)))"
   ]
  },
  {
   "cell_type": "code",
   "execution_count": 171,
   "id": "c56dd504-aa5d-4993-a698-72e6520148f0",
   "metadata": {},
   "outputs": [
    {
     "name": "stdout",
     "output_type": "stream",
     "text": [
      "  n |  code of n |  Len(code n) | formula for code length\n",
      "-------------------------------------------------------\n",
      "  0 |          0 |            1 |                       1\n",
      "  1 |          1 |            1 |                       1\n",
      "  2 |         00 |            2 |                       2\n",
      "  3 |         01 |            2 |                       2\n",
      "  4 |         10 |            2 |                       2\n",
      "  5 |         11 |            2 |                       2\n",
      "  6 |        000 |            3 |                       3\n",
      "  7 |        001 |            3 |                       3\n",
      "  8 |        010 |            3 |                       3\n",
      "  9 |        011 |            3 |                       3\n",
      " 10 |        100 |            3 |                       3\n",
      " 11 |        101 |            3 |                       3\n",
      " 12 |        110 |            3 |                       3\n",
      " 13 |        111 |            3 |                       3\n",
      " 14 |       0000 |            4 |                       4\n",
      " 15 |       0001 |            4 |                       4\n",
      " 16 |       0010 |            4 |                       4\n",
      " 17 |       0011 |            4 |                       4\n",
      " 18 |       0100 |            4 |                       4\n",
      " 19 |       0101 |            4 |                       4\n",
      " 20 |       0110 |            4 |                       4\n"
     ]
    }
   ],
   "source": [
    "nums = list(range(0,21))\n",
    "bins = [bin(num+2)[3:] for num in nums]\n",
    "\n",
    "# Print table headers\n",
    "print(f\"{'n':>3} | {'code of n':>10} | {'Len(code n)':>12} | {'formula for code length':>23}\")\n",
    "print(\"-\" * 55)\n",
    "\n",
    "# Print table rows\n",
    "for n, b in zip(nums, bins):\n",
    "    print(f\"{n:>3} | {b:>10} | {len(b):>12} | {ceil(log2(n+2+1))-1:>23}\") # we subtract 1 to get rid of the systematic leading 1"
   ]
  },
  {
   "cell_type": "markdown",
   "id": "c049bb40-8743-4797-8418-9bd42e516001",
   "metadata": {},
   "source": [
    "- This method, however, totally ignores the existence of \"round\" numbers. This is unfortunate. A round number like one billion (1 000 000 000 in base 10) looks much simpler than the 30 bits of its binary representation (111011100110101100101000000000). \n",
    "- To code n, we consider the standard binary code of (n+2) and we drop the initial 1 (which is redundant). \n",
    "- We then reintroduce a separated heading bit: 1 for \"normal\" numbers, and 0 for \"round\" numbers."
   ]
  },
  {
   "cell_type": "markdown",
   "id": "bbdea0e5-2272-473c-978d-468c05adb292",
   "metadata": {},
   "source": [
    "#### Generating procedures: Can we define the complexity of new objects, based on their structure?\n",
    "\n",
    "##### The example of strings:"
   ]
  },
  {
   "cell_type": "markdown",
   "id": "96684267-d8b4-4074-9136-303de2b5914d",
   "metadata": {},
   "source": [
    "For now, we are able to estimate the complexity of integers and of objects that are stored in memory (through the complexity of their address). What about new objects?\n",
    "\n",
    "Consider, for instance, the case of passwords. Complex passwords are impossible to remember. Can we define what a good password should be?\n",
    ">  A good password should be easy to remember, but hard to guess. In AIT’s terms, it should be complex to anyone but you.\n",
    "\n",
    "Conside the following ranking of passwords:\n",
    "The ranking that is most often proposed is (from simplest to most complex):\n",
    "1. aaaaaaaa\n",
    "2. abcdefgh\n",
    "3. abcdabcd\n",
    "4. efghijkl\n",
    "5. aabbccdd\n",
    "6. amoijdfs\n",
    "\n",
    "Remeber: complexity is about \"shortest binary string\". \n",
    "How do we decide which one has shortest binary string? \n",
    "How do we even start thinking about what a binary representation of some object might be? Could we think for example what the shortest binary representation of a \"tree\" might be? a geometric figure? or a mathematical proof? even simple objects as strings? \n",
    "\n",
    "It's best if we first translate these objects as structures (here we mean generating functions). We need to invent languages that represent these generating functions. Let's see below: \n",
    "\n",
    "*NB: this makes me natrually think of genetic codes as generating functions of organisms*"
   ]
  },
  {
   "cell_type": "code",
   "execution_count": 43,
   "id": "7dce5a1d-2fef-46b6-a7dd-aa434312a77f",
   "metadata": {},
   "outputs": [],
   "source": [
    "# suppose we want to generate 'aaaaaaaa'\n",
    "def repetition(x, times): return str(x) * times"
   ]
  },
  {
   "cell_type": "code",
   "execution_count": 104,
   "id": "e2f9056b-5513-41dc-9eb3-d03ffbe7b108",
   "metadata": {},
   "outputs": [],
   "source": [
    "# to generate increasing series 'abcdefgh'\n",
    "\n",
    "# first an operator to shift letter / char by steps of \"by\"\n",
    "def shift(x, by): return chr(ord(str(x)) + by)"
   ]
  },
  {
   "cell_type": "code",
   "execution_count": 109,
   "id": "e9e69f69-502e-4a96-a213-7af5c43df882",
   "metadata": {},
   "outputs": [],
   "source": [
    "# then operator that uses it and adds appropriate steps size each time\n",
    "def increment(x, by, times): return ''.join([shift(x, k) for k in range(0, times, by)])"
   ]
  },
  {
   "cell_type": "code",
   "execution_count": 111,
   "id": "37c23ef5-b360-491a-9c80-eb5389d1bece",
   "metadata": {},
   "outputs": [
    {
     "data": {
      "text/plain": [
       "'abcdefgh'"
      ]
     },
     "execution_count": 111,
     "metadata": {},
     "output_type": "execute_result"
    }
   ],
   "source": [
    "increment('a',1, 8)"
   ]
  },
  {
   "cell_type": "code",
   "execution_count": 125,
   "id": "f4fc770e-3b51-4edb-b137-4ccc26bcec39",
   "metadata": {},
   "outputs": [
    {
     "data": {
      "text/plain": [
       "'aabbccdd'"
      ]
     },
     "execution_count": 125,
     "metadata": {},
     "output_type": "execute_result"
    }
   ],
   "source": [
    "# to generate aabbccdd, we can combine both \n",
    "''.join(list(map(lambda char: repetition(char, 2), increment('a', 1, 4))))"
   ]
  },
  {
   "cell_type": "code",
   "execution_count": 127,
   "id": "37f9e67e-64f1-4078-b602-c6bb232e2ea5",
   "metadata": {},
   "outputs": [],
   "source": [
    "def mapping(s, f): return ''.join(map(lambda X: eval(f), s))"
   ]
  },
  {
   "cell_type": "markdown",
   "id": "91f88932-c086-4206-a9db-67f38b6a5868",
   "metadata": {},
   "source": [
    "We can use python's eval which evaluate a string to a python expression. "
   ]
  },
  {
   "cell_type": "code",
   "execution_count": 131,
   "id": "c9e0e42e-0314-439f-b2be-09f31fe389c1",
   "metadata": {},
   "outputs": [
    {
     "data": {
      "text/plain": [
       "'aa'"
      ]
     },
     "execution_count": 131,
     "metadata": {},
     "output_type": "execute_result"
    }
   ],
   "source": [
    "eval('repetition(\"a\", 2)')"
   ]
  },
  {
   "cell_type": "code",
   "execution_count": 132,
   "id": "7d6b55b0-0fe7-4e7b-93f5-faf3ac080838",
   "metadata": {},
   "outputs": [
    {
     "data": {
      "text/plain": [
       "'aabbccdd'"
      ]
     },
     "execution_count": 132,
     "metadata": {},
     "output_type": "execute_result"
    }
   ],
   "source": [
    "mapping(increment('a', 1, 4), 'repetition(X, 2)')"
   ]
  },
  {
   "cell_type": "markdown",
   "id": "fd2f27eb-b5c6-44d3-9590-edf226404648",
   "metadata": {},
   "source": [
    "This small language made of 3 operators (repetition, increment and mapping) is capable of generating many interesting string structures. \n",
    "\n",
    "Next, we need binary codes for strutures (generating functions). \n",
    "\n",
    "- We can represent our structures as trees.\n",
    "- If we have (binary) codes for each element in our trees, we can estimate their complexity.\n",
    "- The complexity of the structure (all of a tree) is the sum of the complexities of its elements.\n",
    "- The numbers we get can decide if a string is more complex than others.  "
   ]
  },
  {
   "cell_type": "markdown",
   "id": "32eb149e-2d15-4f91-9bdf-f5677904a84d",
   "metadata": {},
   "source": [
    "<img src=\"repetition.png\" width=\"200\" style=\"display: inline-block;\">\n",
    "<img src=\"mapping.png\" width=\"200\" style=\"display: inline-block;\">"
   ]
  },
  {
   "cell_type": "markdown",
   "id": "aac80ee2-298b-4f72-9196-c55f39ac5748",
   "metadata": {},
   "source": [
    "### Formal definitions of complexity"
   ]
  },
  {
   "cell_type": "markdown",
   "id": "31c4dd2d-887a-48cd-b31a-5d7b9c5bf6f4",
   "metadata": {},
   "source": [
    "#### Defining description complexity\n",
    "\n",
    "Informally, the description complexity of an object s can be estimated:\n",
    "- by finding a short binary code `p(s)` that represents `s`\n",
    "- and then by measuring the length of that binary representation of `s`.\n",
    "- `p(s)` must be decodable to `s` (reconstructible) \n",
    "- There needs to be a machine to do so.\n",
    "- We can regard `p(s)` as a program that when decoded by the machine produces output `s`.\n",
    "- There could be many programs `p`. We want the shortest.\n",
    "- We thus need an \"ideal\" machine that does the decoding.\n",
    "- This will be Universal Turing Machine."
   ]
  },
  {
   "cell_type": "markdown",
   "id": "17c3dc3c-01ee-4191-92e7-136b6c6608f6",
   "metadata": {},
   "source": [
    "The description complexity of s, also called Kolmogorov complexity, is the size of the shortest program that outputs `s` when run on a given universal Turing machine `U`. \n",
    "\n",
    "$$C_U(s) = \\min_{p} \\{ |p| : U(p) = s \\}$$\n",
    "\n",
    "- $s$: object we're decoding\n",
    "- $\\min_{p}$: $p$ are all programs that produce $s$. Our desired $p$ is the minimal set of instructions that produce $s$ and thus capture information contained in $s$.\n",
    "- $U(p)$: UTM"
   ]
  },
  {
   "cell_type": "markdown",
   "id": "953b1e80-8a3c-414d-b73e-18ad5dffbaac",
   "metadata": {},
   "source": [
    "**Question**: Can we compute CU(s)?\n",
    "\n",
    "> **Answer**:   No! One can never be sure to have found the shortest program that generates s. However, one can compute approximations of CU(s) in limited time, and this is what really matters for AI. The issue of the non-computability of C will be addressed in Chapter 3."
   ]
  },
  {
   "cell_type": "markdown",
   "id": "92b90874-ad6e-459c-9710-b66fad849929",
   "metadata": {},
   "source": [
    "### Is complexity subjective? "
   ]
  },
  {
   "cell_type": "markdown",
   "id": "096bf82e-226e-4f6b-b699-8a70cfa3d0b6",
   "metadata": {},
   "source": [
    "At first sight, description complexity seems to be totally subjective. What is simple for you might be complex for me (think of your phone number). \n",
    "\n",
    "Another way: we try to find the minimal set of instructions `p` that can be decoded into `s`. These instructions will have to depend on the machine that executes them. Think for example of writing some program in LISP or Python. Each will have a different syntax / instruction set to achieve the same goal. You will write each description (program) in a different way based on the interpreter (machine: LISP interpreter vs Python interpreter). In the formula above, that is equivalent to changing machine `U` to `V` (so we get $C_V {s}$ and $V(p)$). Does that mean complexity is machine dependent and thus subjective? \n",
    "\n",
    "Ans is NO (alomst). Even if U and V contain different instrction stes, programs on V can't be much longer than programs on U. Since both U, V are turing machines, one can simulate the other. We can write a LISP interpreter in Python (one program of fixed size) then use input the LISP program to Python and use the interpreter to output `p`. \n",
    "\n",
    "So: \n",
    "- To simulate U on V, we need one program of fixed length : the interpreter\n",
    "- Suppose program $P_U$ generates $s$ on machine $U$\n",
    "- If we give program $P_U$ as input to the U-interpreter on $V$, output of $V$ will also be $s$\n",
    "\n",
    "So, there's a price to pay for changing the machine but it's a FIXED price that doesn't depend on inputs but on the machines (bounded).\n",
    "\n",
    "This is called: Invariance theorem"
   ]
  },
  {
   "cell_type": "markdown",
   "id": "06aa3c5c-519d-4c96-9fdc-207b0c0beb75",
   "metadata": {},
   "source": [
    "Formally: \n",
    "$$ \\forall s; \\, |CU(s) - CV(s)| < c_{U,V} $$\n",
    "\n",
    "This means that by changing machine $U$ for another universal Turing machine $V$, the complexity of an object $s$ may be affected at most by a constant $c_{U,V}$, which depends on both machines, but not on $s$."
   ]
  },
  {
   "cell_type": "markdown",
   "id": "f013a0a9-b11b-4da0-953b-2ee8e63e02e5",
   "metadata": {},
   "source": [
    "### Complexity is context dependent: conditional complexity"
   ]
  },
  {
   "cell_type": "markdown",
   "id": "401fa949-5705-4076-942d-66ae2a63c051",
   "metadata": {},
   "source": [
    "**Complexity does not only depend on the machine, but it also varies with the context!**\n",
    "\n",
    "Can Complexity be a well-defined notion, knowing that it depends on context?\n"
   ]
  },
  {
   "cell_type": "markdown",
   "id": "4ad037ee-9797-40db-ad81-5bff6a4251de",
   "metadata": {},
   "source": [
    "Example 1: The complexity of 638 is about log2(638) ≈ 10 bits, but in a context in which 637 has just been mentioned, we may adopt a relative code instead of an absolute one ie: given we know 637, 638 becomes just 637 + 1. So, 638 can be coded by much less than 10 bits since it's coded relative to 637."
   ]
  },
  {
   "cell_type": "markdown",
   "id": "321d0c42-cdaa-4b4b-a8f3-01bf0484d118",
   "metadata": {},
   "source": [
    "Example 2: What is the description complexity of Bill Clinton? depends on how much background knowledge one has about him. If we say know he's one of 50 US presidents - in kth position, then his complexity (by rank in set) is $log_2({k})$. If all we know he's one of 300 million US residents, complexity increases."
   ]
  },
  {
   "cell_type": "markdown",
   "id": "8a1c00bb-6f64-4686-b652-99b510472aa3",
   "metadata": {},
   "source": [
    "Conditional complexity helps us account for \"background\" knowledge. \n",
    "\n",
    "Conditional Kolmogorov complexity, denoted as K(x|y), is the length of the shortest program that can produce x when given y as input. In other words, it's the amount of information needed to specify x, given that we already know y.\n",
    "\n",
    "For example:\n",
    "- K(x) is the complexity of describing x from scratch.\n",
    "- K(x|y) is the complexity of describing x when we already know y.\n",
    "\n",
    "This concept is useful because it allows us to measure how much additional information is needed to describe one object given another."
   ]
  },
  {
   "cell_type": "markdown",
   "id": "c197973e-4eeb-405d-a805-ebc7672e883a",
   "metadata": {},
   "source": [
    "Properties of Conditional Complexity:\n",
    "\n",
    "- K(x|y) ≤ K(x) + O(1): The conditional complexity is always less than or equal to the unconditional complexity (plus a constant). This makes sense because having additional information (y) can't make our description of x longer.\n",
    "\n",
    "- K(x|x) = O(1): The complexity of describing x given x is just a constant. Once we have x, we don't need much additional information to produce x.\n",
    "\n",
    "- K(x,y) ≈ K(x) + K(y|x): The complexity of describing both x and y is approximately equal to the complexity of describing x plus the complexity of describing y given x. This is known as the chain rule for Kolmogorov complexity."
   ]
  },
  {
   "cell_type": "markdown",
   "id": "8a8fec21-5f99-4398-a6dc-29d361819ab2",
   "metadata": {},
   "source": [
    "Chain rule: \n",
    "\n",
    "$$\n",
    "C(s_1) \\leq C(s_2) + C(s_1 \\mid s_2) + O(1).\n",
    "$$\n"
   ]
  },
  {
   "cell_type": "markdown",
   "id": "b25b04f9-a514-465e-8ade-1fa5eeedc996",
   "metadata": {},
   "source": [
    "An illustrative application is to conside the Bulgarian lottery story: \n",
    "\n",
    "On September 10th, 2009, the numbers 4, 15, 23, 24, 35, 42 were drawn by a machine live on the Bulgarian television. The event would have gone unnoticed, were it not that the exact same numbers had come up in the preceding round, a few days before.\n",
    "\n",
    "The proposal is: this grabs our attention because it's much \"simpler\" than expected. \n",
    "\n",
    "- We can compute the complexity of the last lottery draw $r_0$ by referring to the one prior $r_{-1}$\n",
    "- Applying the chain rule: $$C(r_0) < C(r_{-1}) + C(r_0 | r_{-1}) + O(1)$$\n",
    "- Since all lottery draws are recorded, $r_{-1}$ is entirely determined by its rank, 1, in the list of past draws.\n",
    "- In the lottery context, $C(r_{-1}) ≈ C(1)$ is thus about 1 bit (its rank is 1 since this is a stack).\n",
    "- If the two draws contain the same numbers, $C(r_0 | r_{-1}) = 0$. (No extra descriptions needed).\n",
    "- $C(r_0) < C(r_{-1}) + C(r_0 | r_{-1}) + O(1)$.\n",
    "- $C(r_0) <     1     +        0            + O(1)$\n",
    "- Thus $r_0$ appear simple"
   ]
  }
 ],
 "metadata": {
  "kernelspec": {
   "display_name": "Python 3 (ipykernel)",
   "language": "python",
   "name": "python3"
  },
  "language_info": {
   "codemirror_mode": {
    "name": "ipython",
    "version": 3
   },
   "file_extension": ".py",
   "mimetype": "text/x-python",
   "name": "python",
   "nbconvert_exporter": "python",
   "pygments_lexer": "ipython3",
   "version": "3.10.14"
  }
 },
 "nbformat": 4,
 "nbformat_minor": 5
}
